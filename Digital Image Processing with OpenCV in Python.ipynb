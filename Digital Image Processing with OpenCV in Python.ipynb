{
 "cells": [
  {
   "cell_type": "code",
   "execution_count": 1,
   "id": "816ae094",
   "metadata": {},
   "outputs": [],
   "source": [
    "import numpy as np\n",
    "import cv2\n",
    "from matplotlib import pyplot as plt\n",
    "from copy import deepcopy"
   ]
  },
  {
   "cell_type": "markdown",
   "id": "10e2f0fe",
   "metadata": {},
   "source": [
    "Basic operations on images"
   ]
  },
  {
   "cell_type": "code",
   "execution_count": 2,
   "id": "2c95efd3",
   "metadata": {},
   "outputs": [],
   "source": [
    "img=cv2.imread(\"im0.png\",1)"
   ]
  },
  {
   "cell_type": "code",
   "execution_count": 3,
   "id": "6a07eb90",
   "metadata": {},
   "outputs": [
    {
     "data": {
      "text/plain": [
       "array([ 50,  76, 123], dtype=uint8)"
      ]
     },
     "execution_count": 3,
     "metadata": {},
     "output_type": "execute_result"
    }
   ],
   "source": [
    "img[0][0]\n"
   ]
  },
  {
   "cell_type": "code",
   "execution_count": 4,
   "id": "9187bf6a",
   "metadata": {},
   "outputs": [
    {
     "data": {
      "text/plain": [
       "array([False, False, False])"
      ]
     },
     "execution_count": 4,
     "metadata": {},
     "output_type": "execute_result"
    }
   ],
   "source": [
    "img[1,2]==93"
   ]
  },
  {
   "cell_type": "code",
   "execution_count": 2,
   "id": "015ff046",
   "metadata": {},
   "outputs": [],
   "source": [
    "def wind(image):  \n",
    "    cv2.namedWindow(\"image\",cv2.WINDOW_NORMAL)\n",
    "    cv2.imshow(\"image\", image)\n",
    "    cv2.waitKey(0)\n",
    "    cv2.destroyAllWindows()"
   ]
  },
  {
   "cell_type": "code",
   "execution_count": 6,
   "id": "8e99b067",
   "metadata": {},
   "outputs": [],
   "source": [
    "wind(img)"
   ]
  },
  {
   "cell_type": "code",
   "execution_count": 7,
   "id": "28aa9824",
   "metadata": {},
   "outputs": [],
   "source": [
    "imgCol=cv2.imread(\"im0.png\",1)"
   ]
  },
  {
   "cell_type": "code",
   "execution_count": 8,
   "id": "107881a5",
   "metadata": {},
   "outputs": [],
   "source": [
    "wind(imgCol)"
   ]
  },
  {
   "cell_type": "code",
   "execution_count": 9,
   "id": "bed86d7d",
   "metadata": {},
   "outputs": [],
   "source": [
    "imgCol1=deepcopy(imgCol)\n",
    "circle=cv2.circle(imgCol1,(780,1280),350,(125,50,39),20)\n",
    "wind(circle)"
   ]
  },
  {
   "cell_type": "code",
   "execution_count": 10,
   "id": "4f426e10",
   "metadata": {},
   "outputs": [],
   "source": [
    "imgN1=cv2.imread(\"double.png\",1)"
   ]
  },
  {
   "cell_type": "code",
   "execution_count": 11,
   "id": "f6120c3c",
   "metadata": {},
   "outputs": [],
   "source": [
    "wind(imgN1)"
   ]
  },
  {
   "cell_type": "code",
   "execution_count": null,
   "id": "5c5778c9",
   "metadata": {},
   "outputs": [],
   "source": [
    "imgN=deepcopy(imgN1)\n",
    "def click2circle(event,x,y,flags,param):\n",
    "    if event==cv2.EVENT_LBUTTONDBLCLK:\n",
    "        cv2.circle(imgN,(x,y),50,(255,0,0),4)\n",
    "\n",
    "cv2.namedWindow(\"differences\",cv2.WINDOW_NORMAL)\n",
    "cv2.setMouseCallback(\"differences\", click2circle)\n",
    "\n",
    "while True:\n",
    "    cv2.imshow(\"differences\",imgN)\n",
    "    a=cv2.waitKey(1)\n",
    "#    print(\"2 seconds\")\n",
    "    if a==27:\n",
    "        break\n",
    "cv2.destroyAllWindows()"
   ]
  },
  {
   "cell_type": "markdown",
   "id": "8add5873",
   "metadata": {},
   "source": [
    "2.2. Splitting channels, map algebra"
   ]
  },
  {
   "cell_type": "code",
   "execution_count": 12,
   "id": "1b2b9700",
   "metadata": {},
   "outputs": [],
   "source": [
    "wind(imgCol)"
   ]
  },
  {
   "cell_type": "code",
   "execution_count": 13,
   "id": "9e56b57d",
   "metadata": {},
   "outputs": [],
   "source": [
    "b,g,r=cv2.split(imgCol)"
   ]
  },
  {
   "cell_type": "code",
   "execution_count": 14,
   "id": "74149770",
   "metadata": {},
   "outputs": [],
   "source": [
    "a=1"
   ]
  },
  {
   "cell_type": "code",
   "execution_count": 15,
   "id": "91350951",
   "metadata": {},
   "outputs": [],
   "source": [
    "wind(r)"
   ]
  },
  {
   "cell_type": "code",
   "execution_count": 16,
   "id": "2e9f60ac",
   "metadata": {},
   "outputs": [],
   "source": [
    "wind(r-b)"
   ]
  },
  {
   "cell_type": "code",
   "execution_count": 17,
   "id": "2bed1afd",
   "metadata": {},
   "outputs": [],
   "source": [
    "imgcol2=cv2.merge((b,g,r))"
   ]
  },
  {
   "cell_type": "code",
   "execution_count": 18,
   "id": "f3f2ecc4",
   "metadata": {},
   "outputs": [],
   "source": [
    "wind(imgcol2)"
   ]
  },
  {
   "cell_type": "markdown",
   "id": "600fe63c",
   "metadata": {},
   "source": [
    "2.3. Resizing, cropping and exporting"
   ]
  },
  {
   "cell_type": "code",
   "execution_count": 19,
   "id": "40b02e1a",
   "metadata": {},
   "outputs": [],
   "source": [
    "imgres=cv2.resize(imgCol,dsize=None,fx=0.2,fy=0.2,interpolation=cv2.INTER_CUBIC)"
   ]
  },
  {
   "cell_type": "code",
   "execution_count": 20,
   "id": "64d3202d",
   "metadata": {},
   "outputs": [],
   "source": [
    "cv2.imshow(\"window\",imgres)\n",
    "cv2.waitKey(0)\n",
    "cv2.destroyAllWindows()"
   ]
  },
  {
   "cell_type": "code",
   "execution_count": 21,
   "id": "bd0c6719",
   "metadata": {},
   "outputs": [],
   "source": [
    "cropped=imgres[210:368,380:570]"
   ]
  },
  {
   "cell_type": "code",
   "execution_count": 22,
   "id": "4ce7baaa",
   "metadata": {},
   "outputs": [],
   "source": [
    "wind(cropped)"
   ]
  },
  {
   "cell_type": "code",
   "execution_count": 23,
   "id": "47bab194",
   "metadata": {},
   "outputs": [
    {
     "data": {
      "text/plain": [
       "True"
      ]
     },
     "execution_count": 23,
     "metadata": {},
     "output_type": "execute_result"
    }
   ],
   "source": [
    "cv2.imwrite(\"wheel.png\",cropped)"
   ]
  },
  {
   "cell_type": "markdown",
   "id": "f0b291ee",
   "metadata": {},
   "source": [
    "## Chapter 3: Geometric operations on images "
   ]
  },
  {
   "cell_type": "code",
   "execution_count": 24,
   "id": "897ee6f0",
   "metadata": {},
   "outputs": [],
   "source": [
    "crops=cv2.imread(\"crops.png\",0)"
   ]
  },
  {
   "cell_type": "code",
   "execution_count": 25,
   "id": "a2702aa5",
   "metadata": {},
   "outputs": [],
   "source": [
    "wind(crops)"
   ]
  },
  {
   "cell_type": "code",
   "execution_count": 26,
   "id": "2b5dea24",
   "metadata": {},
   "outputs": [],
   "source": [
    "sobelx=cv2.Sobel(crops,cv2.CV_8U,1,0,ksize=3)"
   ]
  },
  {
   "cell_type": "code",
   "execution_count": 27,
   "id": "e33a1675",
   "metadata": {},
   "outputs": [],
   "source": [
    "wind(sobelx)"
   ]
  },
  {
   "cell_type": "code",
   "execution_count": 28,
   "id": "208b9cdc",
   "metadata": {},
   "outputs": [],
   "source": [
    "laplacian=cv2.Laplacian(crops,cv2.CV_8U)\n",
    "wind(laplacian)"
   ]
  },
  {
   "cell_type": "markdown",
   "id": "813ea4b9",
   "metadata": {},
   "source": [
    "3.2. Edge and feature detection"
   ]
  },
  {
   "cell_type": "code",
   "execution_count": 29,
   "id": "ddb8cd9c",
   "metadata": {},
   "outputs": [],
   "source": [
    "edges=cv2.Canny(crops,100,200)\n",
    "wind(edges)"
   ]
  },
  {
   "cell_type": "code",
   "execution_count": 19,
   "id": "3a75aa0f",
   "metadata": {},
   "outputs": [],
   "source": [
    "bbal=cv2.imread(\"basketball.jpg\",1)\n",
    "wind(bbal)"
   ]
  },
  {
   "cell_type": "code",
   "execution_count": 20,
   "id": "94b9b2af",
   "metadata": {},
   "outputs": [],
   "source": [
    "edges=cv2.Canny(bbal,150,400)\n",
    "wind(edges)"
   ]
  },
  {
   "cell_type": "code",
   "execution_count": 15,
   "id": "f3b893ff",
   "metadata": {},
   "outputs": [],
   "source": [
    "lines=cv2.HoughLines(edges,1,np.pi/180,200)"
   ]
  },
  {
   "cell_type": "code",
   "execution_count": 16,
   "id": "7cc22262",
   "metadata": {},
   "outputs": [
    {
     "data": {
      "text/plain": [
       "array([[[  1.       ,   1.5707964]],\n",
       "\n",
       "       [[340.       ,   1.5707964]],\n",
       "\n",
       "       [[282.       ,   0.       ]],\n",
       "\n",
       "       [[559.       ,   0.       ]],\n",
       "\n",
       "       [[279.       ,   0.       ]],\n",
       "\n",
       "       [[127.       ,   1.5707964]],\n",
       "\n",
       "       [[212.       ,   1.5707964]],\n",
       "\n",
       "       [[130.       ,   1.5707964]],\n",
       "\n",
       "       [[215.       ,   1.5707964]],\n",
       "\n",
       "       [[224.       ,   1.5707964]],\n",
       "\n",
       "       [[118.       ,   1.5707964]],\n",
       "\n",
       "       [[  2.       ,   0.       ]],\n",
       "\n",
       "       [[114.       ,   1.5707964]],\n",
       "\n",
       "       [[228.       ,   1.5707964]]], dtype=float32)"
      ]
     },
     "execution_count": 16,
     "metadata": {},
     "output_type": "execute_result"
    }
   ],
   "source": [
    "lines"
   ]
  },
  {
   "cell_type": "code",
   "execution_count": 22,
   "id": "450f9f6a",
   "metadata": {},
   "outputs": [],
   "source": [
    "for iterator in lines:\n",
    "    rho=iterator[0][0]\n",
    "    theta=iterator[0][1]\n",
    "    a=np.cos(theta)\n",
    "    b=np.sin(theta)\n",
    "    x0=a*rho\n",
    "    y0=b*rho\n",
    "    x1=int(x0+1000*(-b))\n",
    "    y1=int(y0+1000*(a))\n",
    "    x2=int(x0-1000*(-b))\n",
    "    y2=int(y0-1000*(a))\n",
    "    cv2.line(bbal,(x1,y1),(x2,y2),(0,0,255),2)"
   ]
  },
  {
   "cell_type": "code",
   "execution_count": 23,
   "id": "de262d49",
   "metadata": {},
   "outputs": [],
   "source": [
    "wind(bbal)"
   ]
  },
  {
   "cell_type": "markdown",
   "id": "97888268",
   "metadata": {},
   "source": [
    "3.3. A simple geocomputation application"
   ]
  },
  {
   "cell_type": "code",
   "execution_count": 24,
   "id": "e9153a70",
   "metadata": {},
   "outputs": [],
   "source": [
    "imgN1=cv2.imread(\"double.png\",1)"
   ]
  },
  {
   "cell_type": "code",
   "execution_count": 25,
   "id": "532d58de",
   "metadata": {},
   "outputs": [],
   "source": [
    "wind(imgN1)"
   ]
  },
  {
   "cell_type": "code",
   "execution_count": 26,
   "id": "00b2cf69",
   "metadata": {},
   "outputs": [],
   "source": [
    "diffs=np.array([[538,109],[1203,739],[758,137],[1240,467]])"
   ]
  },
  {
   "cell_type": "code",
   "execution_count": 27,
   "id": "14431b93",
   "metadata": {},
   "outputs": [],
   "source": [
    "def euclid(x1,x2,y1,y2):\n",
    "    return int(np.sqrt((x1-x2)**2+(y1-y2)**2))"
   ]
  },
  {
   "cell_type": "code",
   "execution_count": null,
   "id": "97d2fed8",
   "metadata": {},
   "outputs": [],
   "source": [
    "imgN=deepcopy(imgN1)\n",
    "def click2circle(event,x,y,flags,param):\n",
    "    if event==cv2.EVENT_LBUTTONDBLCLK:\n",
    "        for diff in diffs:\n",
    "            if euclid(x,diff[0],y,diff[1])<15:\n",
    "                cv2.circle(imgN,(x,y),50,(255,0,0),4)\n",
    "\n",
    "cv2.namedWindow(\"differences\",cv2.WINDOW_NORMAL)\n",
    "cv2.setMouseCallback(\"differences\", click2circle)\n",
    "\n",
    "while True:\n",
    "    cv2.imshow(\"differences\",imgN)\n",
    "    a=cv2.waitKey(1)\n",
    "#    print(\"2 seconds\")\n",
    "    if a==27:\n",
    "        break\n",
    "cv2.destroyAllWindows()"
   ]
  },
  {
   "cell_type": "markdown",
   "id": "73c55643",
   "metadata": {},
   "source": [
    "# Chapter 4: Radiometric operations on images "
   ]
  },
  {
   "cell_type": "markdown",
   "id": "49ccaaf2",
   "metadata": {},
   "source": [
    "4.1. Image colorspace and thresholding"
   ]
  },
  {
   "cell_type": "code",
   "execution_count": 29,
   "id": "febe5c8c",
   "metadata": {},
   "outputs": [],
   "source": [
    "hsv=cv2.cvtColor(imgN1,cv2.COLOR_BGR2HSV)"
   ]
  },
  {
   "cell_type": "code",
   "execution_count": 30,
   "id": "e1f2691c",
   "metadata": {},
   "outputs": [],
   "source": [
    "wind(hsv)"
   ]
  },
  {
   "cell_type": "code",
   "execution_count": 31,
   "id": "42e844eb",
   "metadata": {},
   "outputs": [],
   "source": [
    "gray=cv2.cvtColor(imgN1,cv2.COLOR_BGR2GRAY)"
   ]
  },
  {
   "cell_type": "code",
   "execution_count": 32,
   "id": "6bced8ce",
   "metadata": {},
   "outputs": [],
   "source": [
    "wind(gray)"
   ]
  },
  {
   "cell_type": "code",
   "execution_count": 33,
   "id": "82640a64",
   "metadata": {},
   "outputs": [],
   "source": [
    "r,t=cv2.threshold(gray,100,255,cv2.THRESH_BINARY)"
   ]
  },
  {
   "cell_type": "code",
   "execution_count": 34,
   "id": "92a1170b",
   "metadata": {},
   "outputs": [
    {
     "data": {
      "text/plain": [
       "100.0"
      ]
     },
     "execution_count": 34,
     "metadata": {},
     "output_type": "execute_result"
    }
   ],
   "source": [
    "r"
   ]
  },
  {
   "cell_type": "code",
   "execution_count": 35,
   "id": "58ae1b1f",
   "metadata": {},
   "outputs": [
    {
     "data": {
      "text/plain": [
       "array([[  0,   0,   0, ..., 255, 255, 255],\n",
       "       [  0,   0,   0, ...,   0,   0,   0],\n",
       "       [  0,   0,   0, ...,   0,   0,   0],\n",
       "       ...,\n",
       "       [255, 255, 255, ..., 255, 255, 255],\n",
       "       [255, 255, 255, ..., 255, 255, 255],\n",
       "       [255, 255, 255, ..., 255, 255, 255]], dtype=uint8)"
      ]
     },
     "execution_count": 35,
     "metadata": {},
     "output_type": "execute_result"
    }
   ],
   "source": [
    "t"
   ]
  },
  {
   "cell_type": "code",
   "execution_count": 36,
   "id": "446bbae6",
   "metadata": {},
   "outputs": [],
   "source": [
    "wind(t)"
   ]
  },
  {
   "cell_type": "markdown",
   "id": "687e6dd1",
   "metadata": {},
   "source": [
    "4.2. Image histogram"
   ]
  },
  {
   "cell_type": "code",
   "execution_count": 37,
   "id": "c6444864",
   "metadata": {},
   "outputs": [],
   "source": [
    "lena=cv2.imread(\"lena.jpg\",0)"
   ]
  },
  {
   "cell_type": "code",
   "execution_count": 38,
   "id": "62b5c974",
   "metadata": {},
   "outputs": [],
   "source": [
    "wind(lena)"
   ]
  },
  {
   "cell_type": "code",
   "execution_count": 39,
   "id": "66a9baa7",
   "metadata": {},
   "outputs": [],
   "source": [
    "hist=cv2.calcHist([lena],[0],None,[256],[0,256])"
   ]
  },
  {
   "cell_type": "code",
   "execution_count": 40,
   "id": "2b5068f2",
   "metadata": {},
   "outputs": [],
   "source": [
    "xaxis=np.arange(256).reshape(256,1)"
   ]
  },
  {
   "cell_type": "code",
   "execution_count": 41,
   "id": "cdccb23f",
   "metadata": {},
   "outputs": [],
   "source": [
    "histogram=np.hstack((xaxis,hist)).astype(int)"
   ]
  },
  {
   "cell_type": "code",
   "execution_count": 42,
   "id": "a599e317",
   "metadata": {},
   "outputs": [
    {
     "data": {
      "text/plain": [
       "<function matplotlib.pyplot.show(close=None, block=None)>"
      ]
     },
     "execution_count": 42,
     "metadata": {},
     "output_type": "execute_result"
    },
    {
     "data": {
      "image/png": "[encoded data removed]",
      "text/plain": [
       "<Figure size 432x288 with 1 Axes>"
      ]
     },
     "metadata": {
      "needs_background": "light"
     },
     "output_type": "display_data"
    }
   ],
   "source": [
    "plt.hist(lena.flatten(),256,[0,256])\n",
    "plt.show"
   ]
  },
  {
   "cell_type": "code",
   "execution_count": 43,
   "id": "9639f385",
   "metadata": {},
   "outputs": [],
   "source": [
    "equ=cv2.equalizeHist(lena)"
   ]
  },
  {
   "cell_type": "code",
   "execution_count": 44,
   "id": "9e261441",
   "metadata": {},
   "outputs": [],
   "source": [
    "wind(equ)"
   ]
  },
  {
   "cell_type": "code",
   "execution_count": 45,
   "id": "42aad02a",
   "metadata": {},
   "outputs": [],
   "source": [
    "res=np.hstack((lena,equ))"
   ]
  },
  {
   "cell_type": "code",
   "execution_count": 46,
   "id": "ab89c967",
   "metadata": {},
   "outputs": [],
   "source": [
    "wind(res)"
   ]
  },
  {
   "cell_type": "markdown",
   "id": "b7c89f78",
   "metadata": {},
   "source": [
    "4.3. Convolution based operations"
   ]
  },
  {
   "cell_type": "code",
   "execution_count": 47,
   "id": "df37f53a",
   "metadata": {},
   "outputs": [],
   "source": [
    "blur=cv2.blur(lena,(7,7))\n",
    "wind(blur)"
   ]
  },
  {
   "cell_type": "code",
   "execution_count": 48,
   "id": "06318ce0",
   "metadata": {},
   "outputs": [],
   "source": [
    "blurG=cv2.GaussianBlur(lena,(11,11),0)\n",
    "wind(blurG)"
   ]
  },
  {
   "cell_type": "code",
   "execution_count": 49,
   "id": "d51c0553",
   "metadata": {},
   "outputs": [],
   "source": [
    "res=np.hstack((lena,blurG))"
   ]
  },
  {
   "cell_type": "code",
   "execution_count": 50,
   "id": "a30e46af",
   "metadata": {},
   "outputs": [],
   "source": [
    "wind(res)"
   ]
  },
  {
   "cell_type": "markdown",
   "id": "3a192cee",
   "metadata": {},
   "source": [
    "4.4. k-means classification"
   ]
  },
  {
   "cell_type": "code",
   "execution_count": 51,
   "id": "b3103fd1",
   "metadata": {},
   "outputs": [],
   "source": [
    "img=cv2.imread(\"im0.png\",1)\n",
    "wind(img)"
   ]
  },
  {
   "cell_type": "code",
   "execution_count": 52,
   "id": "7adbdc0a",
   "metadata": {},
   "outputs": [],
   "source": [
    "imgCL=np.float32(img.reshape((-1,3)))"
   ]
  },
  {
   "cell_type": "code",
   "execution_count": 53,
   "id": "be900b85",
   "metadata": {},
   "outputs": [],
   "source": [
    "imgCL=np.float32(img.reshape((-1,3)))\n",
    "criteria=(cv2.TERM_CRITERIA_EPS+cv2.TERM_CRITERIA_MAX_ITER,15,1.0)\n",
    "K=4\n",
    "ret,lab,center=cv2.kmeans(imgCL,K,None,criteria,10,cv2.KMEANS_RANDOM_CENTERS)\n",
    "center=np.uint8(center)\n",
    "res=center[lab.flatten()]\n",
    "res2=res.reshape((img.shape))\n",
    "wind(res2)"
   ]
  },
  {
   "cell_type": "code",
   "execution_count": null,
   "id": "cf2ba11e",
   "metadata": {},
   "outputs": [],
   "source": []
  }
 ],
 "metadata": {
  "kernelspec": {
   "display_name": "Python 3 (ipykernel)",
   "language": "python",
   "name": "python3"
  },
  "language_info": {
   "codemirror_mode": {
    "name": "ipython",
    "version": 3
   },
   "file_extension": ".py",
   "mimetype": "text/x-python",
   "name": "python",
   "nbconvert_exporter": "python",
   "pygments_lexer": "ipython3",
   "version": "3.8.12"
  }
 },
 "nbformat": 4,
 "nbformat_minor": 5
}
